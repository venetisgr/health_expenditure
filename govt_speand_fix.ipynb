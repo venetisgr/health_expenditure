{
 "cells": [
  {
   "cell_type": "code",
   "execution_count": 1,
   "metadata": {},
   "outputs": [],
   "source": [
    "import pandas as pd\n",
    "import numpy as np\n",
    "\n",
    "%matplotlib inline\n",
    "import matplotlib.pyplot as plt"
   ]
  },
  {
   "cell_type": "code",
   "execution_count": 2,
   "metadata": {},
   "outputs": [],
   "source": [
    "gvt_spnd = pd.read_csv(\"government_health_spending_per_person_international_dollar.csv\")\n",
    "#average health expenditure per person in dollars"
   ]
  },
  {
   "cell_type": "code",
   "execution_count": 3,
   "metadata": {},
   "outputs": [
    {
     "data": {
      "text/html": [
       "<div>\n",
       "<style scoped>\n",
       "    .dataframe tbody tr th:only-of-type {\n",
       "        vertical-align: middle;\n",
       "    }\n",
       "\n",
       "    .dataframe tbody tr th {\n",
       "        vertical-align: top;\n",
       "    }\n",
       "\n",
       "    .dataframe thead th {\n",
       "        text-align: right;\n",
       "    }\n",
       "</style>\n",
       "<table border=\"1\" class=\"dataframe\">\n",
       "  <thead>\n",
       "    <tr style=\"text-align: right;\">\n",
       "      <th></th>\n",
       "      <th>country</th>\n",
       "      <th>1995</th>\n",
       "      <th>1996</th>\n",
       "      <th>1997</th>\n",
       "      <th>1998</th>\n",
       "      <th>1999</th>\n",
       "      <th>2000</th>\n",
       "      <th>2001</th>\n",
       "      <th>2002</th>\n",
       "      <th>2003</th>\n",
       "      <th>2004</th>\n",
       "      <th>2005</th>\n",
       "      <th>2006</th>\n",
       "      <th>2007</th>\n",
       "      <th>2008</th>\n",
       "      <th>2009</th>\n",
       "      <th>2010</th>\n",
       "    </tr>\n",
       "  </thead>\n",
       "  <tbody>\n",
       "    <tr>\n",
       "      <th>0</th>\n",
       "      <td>Afghanistan</td>\n",
       "      <td>NaN</td>\n",
       "      <td>NaN</td>\n",
       "      <td>NaN</td>\n",
       "      <td>NaN</td>\n",
       "      <td>NaN</td>\n",
       "      <td>NaN</td>\n",
       "      <td>NaN</td>\n",
       "      <td>1.24</td>\n",
       "      <td>2.03</td>\n",
       "      <td>2.51</td>\n",
       "      <td>4.11</td>\n",
       "      <td>4.27</td>\n",
       "      <td>4.91</td>\n",
       "      <td>4.5</td>\n",
       "      <td>5.28</td>\n",
       "      <td>5.18</td>\n",
       "    </tr>\n",
       "    <tr>\n",
       "      <th>1</th>\n",
       "      <td>Albania</td>\n",
       "      <td>52.9</td>\n",
       "      <td>57.8</td>\n",
       "      <td>61.2</td>\n",
       "      <td>72.7</td>\n",
       "      <td>97.5</td>\n",
       "      <td>96.2</td>\n",
       "      <td>107.0</td>\n",
       "      <td>109.00</td>\n",
       "      <td>117.00</td>\n",
       "      <td>151.00</td>\n",
       "      <td>164.00</td>\n",
       "      <td>178.00</td>\n",
       "      <td>189.00</td>\n",
       "      <td>221.0</td>\n",
       "      <td>244.00</td>\n",
       "      <td>225.00</td>\n",
       "    </tr>\n",
       "    <tr>\n",
       "      <th>2</th>\n",
       "      <td>Algeria</td>\n",
       "      <td>145.0</td>\n",
       "      <td>140.0</td>\n",
       "      <td>146.0</td>\n",
       "      <td>152.0</td>\n",
       "      <td>148.0</td>\n",
       "      <td>138.0</td>\n",
       "      <td>164.0</td>\n",
       "      <td>174.00</td>\n",
       "      <td>185.00</td>\n",
       "      <td>161.00</td>\n",
       "      <td>160.00</td>\n",
       "      <td>173.00</td>\n",
       "      <td>211.00</td>\n",
       "      <td>238.0</td>\n",
       "      <td>289.00</td>\n",
       "      <td>257.00</td>\n",
       "    </tr>\n",
       "    <tr>\n",
       "      <th>3</th>\n",
       "      <td>Andorra</td>\n",
       "      <td>947.0</td>\n",
       "      <td>1040.0</td>\n",
       "      <td>1180.0</td>\n",
       "      <td>1670.0</td>\n",
       "      <td>1210.0</td>\n",
       "      <td>1280.0</td>\n",
       "      <td>1340.0</td>\n",
       "      <td>1480.00</td>\n",
       "      <td>1530.00</td>\n",
       "      <td>1610.00</td>\n",
       "      <td>1710.00</td>\n",
       "      <td>2010.00</td>\n",
       "      <td>2110.00</td>\n",
       "      <td>2250.0</td>\n",
       "      <td>2390.00</td>\n",
       "      <td>2280.00</td>\n",
       "    </tr>\n",
       "    <tr>\n",
       "      <th>4</th>\n",
       "      <td>Angola</td>\n",
       "      <td>59.5</td>\n",
       "      <td>33.1</td>\n",
       "      <td>37.5</td>\n",
       "      <td>30.4</td>\n",
       "      <td>32.9</td>\n",
       "      <td>44.6</td>\n",
       "      <td>70.3</td>\n",
       "      <td>50.00</td>\n",
       "      <td>58.40</td>\n",
       "      <td>47.90</td>\n",
       "      <td>53.10</td>\n",
       "      <td>82.70</td>\n",
       "      <td>105.00</td>\n",
       "      <td>161.0</td>\n",
       "      <td>267.00</td>\n",
       "      <td>139.00</td>\n",
       "    </tr>\n",
       "  </tbody>\n",
       "</table>\n",
       "</div>"
      ],
      "text/plain": [
       "       country   1995    1996    1997    1998    1999    2000    2001  \\\n",
       "0  Afghanistan    NaN     NaN     NaN     NaN     NaN     NaN     NaN   \n",
       "1      Albania   52.9    57.8    61.2    72.7    97.5    96.2   107.0   \n",
       "2      Algeria  145.0   140.0   146.0   152.0   148.0   138.0   164.0   \n",
       "3      Andorra  947.0  1040.0  1180.0  1670.0  1210.0  1280.0  1340.0   \n",
       "4       Angola   59.5    33.1    37.5    30.4    32.9    44.6    70.3   \n",
       "\n",
       "      2002     2003     2004     2005     2006     2007    2008     2009  \\\n",
       "0     1.24     2.03     2.51     4.11     4.27     4.91     4.5     5.28   \n",
       "1   109.00   117.00   151.00   164.00   178.00   189.00   221.0   244.00   \n",
       "2   174.00   185.00   161.00   160.00   173.00   211.00   238.0   289.00   \n",
       "3  1480.00  1530.00  1610.00  1710.00  2010.00  2110.00  2250.0  2390.00   \n",
       "4    50.00    58.40    47.90    53.10    82.70   105.00   161.0   267.00   \n",
       "\n",
       "      2010  \n",
       "0     5.18  \n",
       "1   225.00  \n",
       "2   257.00  \n",
       "3  2280.00  \n",
       "4   139.00  "
      ]
     },
     "execution_count": 3,
     "metadata": {},
     "output_type": "execute_result"
    }
   ],
   "source": [
    "gvt_spnd.head()"
   ]
  },
  {
   "cell_type": "code",
   "execution_count": 4,
   "metadata": {},
   "outputs": [
    {
     "data": {
      "text/plain": [
       "(190, 17)"
      ]
     },
     "execution_count": 4,
     "metadata": {},
     "output_type": "execute_result"
    }
   ],
   "source": [
    "gvt_spnd.shape"
   ]
  },
  {
   "cell_type": "code",
   "execution_count": 5,
   "metadata": {},
   "outputs": [
    {
     "name": "stdout",
     "output_type": "stream",
     "text": [
      "<class 'pandas.core.frame.DataFrame'>\n",
      "RangeIndex: 190 entries, 0 to 189\n",
      "Data columns (total 17 columns):\n",
      "country    190 non-null object\n",
      "1995       187 non-null float64\n",
      "1996       188 non-null float64\n",
      "1997       188 non-null float64\n",
      "1998       189 non-null float64\n",
      "1999       189 non-null float64\n",
      "2000       189 non-null float64\n",
      "2001       189 non-null float64\n",
      "2002       188 non-null float64\n",
      "2003       188 non-null float64\n",
      "2004       188 non-null float64\n",
      "2005       188 non-null float64\n",
      "2006       188 non-null float64\n",
      "2007       188 non-null float64\n",
      "2008       188 non-null float64\n",
      "2009       188 non-null float64\n",
      "2010       185 non-null float64\n",
      "dtypes: float64(16), object(1)\n",
      "memory usage: 25.4+ KB\n"
     ]
    }
   ],
   "source": [
    "gvt_spnd.info()"
   ]
  },
  {
   "cell_type": "code",
   "execution_count": 6,
   "metadata": {},
   "outputs": [
    {
     "data": {
      "text/plain": [
       "0"
      ]
     },
     "execution_count": 6,
     "metadata": {},
     "output_type": "execute_result"
    }
   ],
   "source": [
    "gvt_spnd.duplicated().sum() #no duplicate values"
   ]
  },
  {
   "cell_type": "code",
   "execution_count": 7,
   "metadata": {},
   "outputs": [],
   "source": [
    "msng = gvt_spnd.T.isna().sum()"
   ]
  },
  {
   "cell_type": "code",
   "execution_count": 8,
   "metadata": {},
   "outputs": [
    {
     "data": {
      "text/plain": [
       "0      7\n",
       "72     1\n",
       "78     1\n",
       "94     3\n",
       "108    1\n",
       "122    1\n",
       "152    9\n",
       "189    9\n",
       "dtype: int64"
      ]
     },
     "execution_count": 8,
     "metadata": {},
     "output_type": "execute_result"
    }
   ],
   "source": [
    "msng[msng>0]"
   ]
  },
  {
   "cell_type": "code",
   "execution_count": 9,
   "metadata": {},
   "outputs": [],
   "source": [
    "#rows with 7 and 9 values will be dropped since the missing values cannot be replaced"
   ]
  },
  {
   "cell_type": "code",
   "execution_count": 10,
   "metadata": {},
   "outputs": [],
   "source": [
    "gvt_spnd.drop([0,152,189],inplace=True)"
   ]
  },
  {
   "cell_type": "code",
   "execution_count": 11,
   "metadata": {},
   "outputs": [
    {
     "data": {
      "text/html": [
       "<div>\n",
       "<style scoped>\n",
       "    .dataframe tbody tr th:only-of-type {\n",
       "        vertical-align: middle;\n",
       "    }\n",
       "\n",
       "    .dataframe tbody tr th {\n",
       "        vertical-align: top;\n",
       "    }\n",
       "\n",
       "    .dataframe thead th {\n",
       "        text-align: right;\n",
       "    }\n",
       "</style>\n",
       "<table border=\"1\" class=\"dataframe\">\n",
       "  <thead>\n",
       "    <tr style=\"text-align: right;\">\n",
       "      <th></th>\n",
       "      <th>country</th>\n",
       "      <th>1995</th>\n",
       "      <th>1996</th>\n",
       "      <th>1997</th>\n",
       "      <th>1998</th>\n",
       "      <th>1999</th>\n",
       "      <th>2000</th>\n",
       "      <th>2001</th>\n",
       "      <th>2002</th>\n",
       "      <th>2003</th>\n",
       "      <th>2004</th>\n",
       "      <th>2005</th>\n",
       "      <th>2006</th>\n",
       "      <th>2007</th>\n",
       "      <th>2008</th>\n",
       "      <th>2009</th>\n",
       "      <th>2010</th>\n",
       "    </tr>\n",
       "  </thead>\n",
       "  <tbody>\n",
       "    <tr>\n",
       "      <th>72</th>\n",
       "      <td>Honduras</td>\n",
       "      <td>64.6</td>\n",
       "      <td>57.10</td>\n",
       "      <td>57.70</td>\n",
       "      <td>72.60</td>\n",
       "      <td>70.20</td>\n",
       "      <td>92.000</td>\n",
       "      <td>95.30</td>\n",
       "      <td>106.000</td>\n",
       "      <td>135.00</td>\n",
       "      <td>128.00</td>\n",
       "      <td>124.00</td>\n",
       "      <td>123.00</td>\n",
       "      <td>138.0</td>\n",
       "      <td>146.0</td>\n",
       "      <td>178.0</td>\n",
       "      <td>NaN</td>\n",
       "    </tr>\n",
       "    <tr>\n",
       "      <th>78</th>\n",
       "      <td>Iraq</td>\n",
       "      <td>NaN</td>\n",
       "      <td>0.66</td>\n",
       "      <td>0.12</td>\n",
       "      <td>1.35</td>\n",
       "      <td>1.47</td>\n",
       "      <td>0.874</td>\n",
       "      <td>1.46</td>\n",
       "      <td>0.823</td>\n",
       "      <td>33.80</td>\n",
       "      <td>110.00</td>\n",
       "      <td>82.20</td>\n",
       "      <td>76.20</td>\n",
       "      <td>94.3</td>\n",
       "      <td>118.0</td>\n",
       "      <td>267.0</td>\n",
       "      <td>276.0</td>\n",
       "    </tr>\n",
       "    <tr>\n",
       "      <th>94</th>\n",
       "      <td>Liberia</td>\n",
       "      <td>NaN</td>\n",
       "      <td>NaN</td>\n",
       "      <td>NaN</td>\n",
       "      <td>4.25</td>\n",
       "      <td>5.28</td>\n",
       "      <td>5.660</td>\n",
       "      <td>6.67</td>\n",
       "      <td>4.580</td>\n",
       "      <td>3.58</td>\n",
       "      <td>4.21</td>\n",
       "      <td>5.41</td>\n",
       "      <td>6.97</td>\n",
       "      <td>10.8</td>\n",
       "      <td>15.9</td>\n",
       "      <td>17.1</td>\n",
       "      <td>16.0</td>\n",
       "    </tr>\n",
       "    <tr>\n",
       "      <th>108</th>\n",
       "      <td>Mexico</td>\n",
       "      <td>163.0</td>\n",
       "      <td>153.00</td>\n",
       "      <td>182.00</td>\n",
       "      <td>200.00</td>\n",
       "      <td>225.00</td>\n",
       "      <td>237.000</td>\n",
       "      <td>247.00</td>\n",
       "      <td>256.000</td>\n",
       "      <td>278.00</td>\n",
       "      <td>311.00</td>\n",
       "      <td>329.00</td>\n",
       "      <td>351.00</td>\n",
       "      <td>382.0</td>\n",
       "      <td>418.0</td>\n",
       "      <td>445.0</td>\n",
       "      <td>NaN</td>\n",
       "    </tr>\n",
       "    <tr>\n",
       "      <th>122</th>\n",
       "      <td>Nicaragua</td>\n",
       "      <td>80.6</td>\n",
       "      <td>77.70</td>\n",
       "      <td>54.90</td>\n",
       "      <td>61.00</td>\n",
       "      <td>57.10</td>\n",
       "      <td>70.800</td>\n",
       "      <td>72.30</td>\n",
       "      <td>77.200</td>\n",
       "      <td>92.20</td>\n",
       "      <td>96.50</td>\n",
       "      <td>105.00</td>\n",
       "      <td>112.00</td>\n",
       "      <td>131.0</td>\n",
       "      <td>138.0</td>\n",
       "      <td>139.0</td>\n",
       "      <td>NaN</td>\n",
       "    </tr>\n",
       "  </tbody>\n",
       "</table>\n",
       "</div>"
      ],
      "text/plain": [
       "       country   1995    1996    1997    1998    1999     2000    2001  \\\n",
       "72    Honduras   64.6   57.10   57.70   72.60   70.20   92.000   95.30   \n",
       "78        Iraq    NaN    0.66    0.12    1.35    1.47    0.874    1.46   \n",
       "94     Liberia    NaN     NaN     NaN    4.25    5.28    5.660    6.67   \n",
       "108     Mexico  163.0  153.00  182.00  200.00  225.00  237.000  247.00   \n",
       "122  Nicaragua   80.6   77.70   54.90   61.00   57.10   70.800   72.30   \n",
       "\n",
       "        2002    2003    2004    2005    2006   2007   2008   2009   2010  \n",
       "72   106.000  135.00  128.00  124.00  123.00  138.0  146.0  178.0    NaN  \n",
       "78     0.823   33.80  110.00   82.20   76.20   94.3  118.0  267.0  276.0  \n",
       "94     4.580    3.58    4.21    5.41    6.97   10.8   15.9   17.1   16.0  \n",
       "108  256.000  278.00  311.00  329.00  351.00  382.0  418.0  445.0    NaN  \n",
       "122   77.200   92.20   96.50  105.00  112.00  131.0  138.0  139.0    NaN  "
      ]
     },
     "execution_count": 11,
     "metadata": {},
     "output_type": "execute_result"
    }
   ],
   "source": [
    "gvt_spnd[gvt_spnd.isnull().any(axis=1)] "
   ]
  },
  {
   "cell_type": "code",
   "execution_count": 12,
   "metadata": {},
   "outputs": [],
   "source": [
    "#liberia missing values cannot be replaced, thus the row will be dropped"
   ]
  },
  {
   "cell_type": "code",
   "execution_count": 13,
   "metadata": {},
   "outputs": [],
   "source": [
    "gvt_spnd.drop([94],inplace=True)"
   ]
  },
  {
   "cell_type": "code",
   "execution_count": 14,
   "metadata": {},
   "outputs": [
    {
     "data": {
      "text/html": [
       "<div>\n",
       "<style scoped>\n",
       "    .dataframe tbody tr th:only-of-type {\n",
       "        vertical-align: middle;\n",
       "    }\n",
       "\n",
       "    .dataframe tbody tr th {\n",
       "        vertical-align: top;\n",
       "    }\n",
       "\n",
       "    .dataframe thead th {\n",
       "        text-align: right;\n",
       "    }\n",
       "</style>\n",
       "<table border=\"1\" class=\"dataframe\">\n",
       "  <thead>\n",
       "    <tr style=\"text-align: right;\">\n",
       "      <th></th>\n",
       "      <th>country</th>\n",
       "      <th>1995</th>\n",
       "      <th>1996</th>\n",
       "      <th>1997</th>\n",
       "      <th>1998</th>\n",
       "      <th>1999</th>\n",
       "      <th>2000</th>\n",
       "      <th>2001</th>\n",
       "      <th>2002</th>\n",
       "      <th>2003</th>\n",
       "      <th>2004</th>\n",
       "      <th>2005</th>\n",
       "      <th>2006</th>\n",
       "      <th>2007</th>\n",
       "      <th>2008</th>\n",
       "      <th>2009</th>\n",
       "      <th>2010</th>\n",
       "    </tr>\n",
       "  </thead>\n",
       "  <tbody>\n",
       "    <tr>\n",
       "      <th>72</th>\n",
       "      <td>Honduras</td>\n",
       "      <td>64.6</td>\n",
       "      <td>57.10</td>\n",
       "      <td>57.70</td>\n",
       "      <td>72.60</td>\n",
       "      <td>70.20</td>\n",
       "      <td>92.000</td>\n",
       "      <td>95.30</td>\n",
       "      <td>106.000</td>\n",
       "      <td>135.0</td>\n",
       "      <td>128.0</td>\n",
       "      <td>124.0</td>\n",
       "      <td>123.0</td>\n",
       "      <td>138.0</td>\n",
       "      <td>146.0</td>\n",
       "      <td>178.0</td>\n",
       "      <td>NaN</td>\n",
       "    </tr>\n",
       "    <tr>\n",
       "      <th>78</th>\n",
       "      <td>Iraq</td>\n",
       "      <td>NaN</td>\n",
       "      <td>0.66</td>\n",
       "      <td>0.12</td>\n",
       "      <td>1.35</td>\n",
       "      <td>1.47</td>\n",
       "      <td>0.874</td>\n",
       "      <td>1.46</td>\n",
       "      <td>0.823</td>\n",
       "      <td>33.8</td>\n",
       "      <td>110.0</td>\n",
       "      <td>82.2</td>\n",
       "      <td>76.2</td>\n",
       "      <td>94.3</td>\n",
       "      <td>118.0</td>\n",
       "      <td>267.0</td>\n",
       "      <td>276.0</td>\n",
       "    </tr>\n",
       "    <tr>\n",
       "      <th>108</th>\n",
       "      <td>Mexico</td>\n",
       "      <td>163.0</td>\n",
       "      <td>153.00</td>\n",
       "      <td>182.00</td>\n",
       "      <td>200.00</td>\n",
       "      <td>225.00</td>\n",
       "      <td>237.000</td>\n",
       "      <td>247.00</td>\n",
       "      <td>256.000</td>\n",
       "      <td>278.0</td>\n",
       "      <td>311.0</td>\n",
       "      <td>329.0</td>\n",
       "      <td>351.0</td>\n",
       "      <td>382.0</td>\n",
       "      <td>418.0</td>\n",
       "      <td>445.0</td>\n",
       "      <td>NaN</td>\n",
       "    </tr>\n",
       "    <tr>\n",
       "      <th>122</th>\n",
       "      <td>Nicaragua</td>\n",
       "      <td>80.6</td>\n",
       "      <td>77.70</td>\n",
       "      <td>54.90</td>\n",
       "      <td>61.00</td>\n",
       "      <td>57.10</td>\n",
       "      <td>70.800</td>\n",
       "      <td>72.30</td>\n",
       "      <td>77.200</td>\n",
       "      <td>92.2</td>\n",
       "      <td>96.5</td>\n",
       "      <td>105.0</td>\n",
       "      <td>112.0</td>\n",
       "      <td>131.0</td>\n",
       "      <td>138.0</td>\n",
       "      <td>139.0</td>\n",
       "      <td>NaN</td>\n",
       "    </tr>\n",
       "  </tbody>\n",
       "</table>\n",
       "</div>"
      ],
      "text/plain": [
       "       country   1995    1996    1997    1998    1999     2000    2001  \\\n",
       "72    Honduras   64.6   57.10   57.70   72.60   70.20   92.000   95.30   \n",
       "78        Iraq    NaN    0.66    0.12    1.35    1.47    0.874    1.46   \n",
       "108     Mexico  163.0  153.00  182.00  200.00  225.00  237.000  247.00   \n",
       "122  Nicaragua   80.6   77.70   54.90   61.00   57.10   70.800   72.30   \n",
       "\n",
       "        2002   2003   2004   2005   2006   2007   2008   2009   2010  \n",
       "72   106.000  135.0  128.0  124.0  123.0  138.0  146.0  178.0    NaN  \n",
       "78     0.823   33.8  110.0   82.2   76.2   94.3  118.0  267.0  276.0  \n",
       "108  256.000  278.0  311.0  329.0  351.0  382.0  418.0  445.0    NaN  \n",
       "122   77.200   92.2   96.5  105.0  112.0  131.0  138.0  139.0    NaN  "
      ]
     },
     "execution_count": 14,
     "metadata": {},
     "output_type": "execute_result"
    }
   ],
   "source": [
    "gvt_spnd[gvt_spnd.isnull().any(axis=1)] "
   ]
  },
  {
   "cell_type": "code",
   "execution_count": 15,
   "metadata": {},
   "outputs": [],
   "source": [
    "gvt_spnd = gvt_spnd.fillna(method=\"bfill\",axis=1) #replaces the previous by copying the one in front of it"
   ]
  },
  {
   "cell_type": "code",
   "execution_count": 16,
   "metadata": {},
   "outputs": [
    {
     "data": {
      "text/html": [
       "<div>\n",
       "<style scoped>\n",
       "    .dataframe tbody tr th:only-of-type {\n",
       "        vertical-align: middle;\n",
       "    }\n",
       "\n",
       "    .dataframe tbody tr th {\n",
       "        vertical-align: top;\n",
       "    }\n",
       "\n",
       "    .dataframe thead th {\n",
       "        text-align: right;\n",
       "    }\n",
       "</style>\n",
       "<table border=\"1\" class=\"dataframe\">\n",
       "  <thead>\n",
       "    <tr style=\"text-align: right;\">\n",
       "      <th></th>\n",
       "      <th>country</th>\n",
       "      <th>1995</th>\n",
       "      <th>1996</th>\n",
       "      <th>1997</th>\n",
       "      <th>1998</th>\n",
       "      <th>1999</th>\n",
       "      <th>2000</th>\n",
       "      <th>2001</th>\n",
       "      <th>2002</th>\n",
       "      <th>2003</th>\n",
       "      <th>2004</th>\n",
       "      <th>2005</th>\n",
       "      <th>2006</th>\n",
       "      <th>2007</th>\n",
       "      <th>2008</th>\n",
       "      <th>2009</th>\n",
       "      <th>2010</th>\n",
       "    </tr>\n",
       "  </thead>\n",
       "  <tbody>\n",
       "    <tr>\n",
       "      <th>72</th>\n",
       "      <td>Honduras</td>\n",
       "      <td>64.6</td>\n",
       "      <td>57.1</td>\n",
       "      <td>57.7</td>\n",
       "      <td>72.6</td>\n",
       "      <td>70.2</td>\n",
       "      <td>92</td>\n",
       "      <td>95.3</td>\n",
       "      <td>106</td>\n",
       "      <td>135</td>\n",
       "      <td>128</td>\n",
       "      <td>124</td>\n",
       "      <td>123</td>\n",
       "      <td>138</td>\n",
       "      <td>146</td>\n",
       "      <td>178</td>\n",
       "      <td>NaN</td>\n",
       "    </tr>\n",
       "    <tr>\n",
       "      <th>108</th>\n",
       "      <td>Mexico</td>\n",
       "      <td>163</td>\n",
       "      <td>153</td>\n",
       "      <td>182</td>\n",
       "      <td>200</td>\n",
       "      <td>225</td>\n",
       "      <td>237</td>\n",
       "      <td>247</td>\n",
       "      <td>256</td>\n",
       "      <td>278</td>\n",
       "      <td>311</td>\n",
       "      <td>329</td>\n",
       "      <td>351</td>\n",
       "      <td>382</td>\n",
       "      <td>418</td>\n",
       "      <td>445</td>\n",
       "      <td>NaN</td>\n",
       "    </tr>\n",
       "    <tr>\n",
       "      <th>122</th>\n",
       "      <td>Nicaragua</td>\n",
       "      <td>80.6</td>\n",
       "      <td>77.7</td>\n",
       "      <td>54.9</td>\n",
       "      <td>61</td>\n",
       "      <td>57.1</td>\n",
       "      <td>70.8</td>\n",
       "      <td>72.3</td>\n",
       "      <td>77.2</td>\n",
       "      <td>92.2</td>\n",
       "      <td>96.5</td>\n",
       "      <td>105</td>\n",
       "      <td>112</td>\n",
       "      <td>131</td>\n",
       "      <td>138</td>\n",
       "      <td>139</td>\n",
       "      <td>NaN</td>\n",
       "    </tr>\n",
       "  </tbody>\n",
       "</table>\n",
       "</div>"
      ],
      "text/plain": [
       "       country  1995  1996  1997  1998  1999  2000  2001  2002  2003  2004  \\\n",
       "72    Honduras  64.6  57.1  57.7  72.6  70.2    92  95.3   106   135   128   \n",
       "108     Mexico   163   153   182   200   225   237   247   256   278   311   \n",
       "122  Nicaragua  80.6  77.7  54.9    61  57.1  70.8  72.3  77.2  92.2  96.5   \n",
       "\n",
       "    2005 2006 2007 2008 2009 2010  \n",
       "72   124  123  138  146  178  NaN  \n",
       "108  329  351  382  418  445  NaN  \n",
       "122  105  112  131  138  139  NaN  "
      ]
     },
     "execution_count": 16,
     "metadata": {},
     "output_type": "execute_result"
    }
   ],
   "source": [
    "gvt_spnd[gvt_spnd.isnull().any(axis=1)] "
   ]
  },
  {
   "cell_type": "code",
   "execution_count": 17,
   "metadata": {},
   "outputs": [
    {
     "data": {
      "text/plain": [
       "country    Iraq\n",
       "1995       0.66\n",
       "1996       0.66\n",
       "1997       0.12\n",
       "Name: 78, dtype: object"
      ]
     },
     "execution_count": 17,
     "metadata": {},
     "output_type": "execute_result"
    }
   ],
   "source": [
    "gvt_spnd.loc[78,:\"1997\"] #replacement was successfull"
   ]
  },
  {
   "cell_type": "code",
   "execution_count": 18,
   "metadata": {},
   "outputs": [],
   "source": [
    "gvt_spnd = gvt_spnd.fillna(method=\"ffill\",axis=1) #fills the value by copying the value behind it"
   ]
  },
  {
   "cell_type": "code",
   "execution_count": 19,
   "metadata": {},
   "outputs": [
    {
     "data": {
      "text/html": [
       "<div>\n",
       "<style scoped>\n",
       "    .dataframe tbody tr th:only-of-type {\n",
       "        vertical-align: middle;\n",
       "    }\n",
       "\n",
       "    .dataframe tbody tr th {\n",
       "        vertical-align: top;\n",
       "    }\n",
       "\n",
       "    .dataframe thead th {\n",
       "        text-align: right;\n",
       "    }\n",
       "</style>\n",
       "<table border=\"1\" class=\"dataframe\">\n",
       "  <thead>\n",
       "    <tr style=\"text-align: right;\">\n",
       "      <th></th>\n",
       "      <th>country</th>\n",
       "      <th>1995</th>\n",
       "      <th>1996</th>\n",
       "      <th>1997</th>\n",
       "      <th>1998</th>\n",
       "      <th>1999</th>\n",
       "      <th>2000</th>\n",
       "      <th>2001</th>\n",
       "      <th>2002</th>\n",
       "      <th>2003</th>\n",
       "      <th>2004</th>\n",
       "      <th>2005</th>\n",
       "      <th>2006</th>\n",
       "      <th>2007</th>\n",
       "      <th>2008</th>\n",
       "      <th>2009</th>\n",
       "      <th>2010</th>\n",
       "    </tr>\n",
       "  </thead>\n",
       "  <tbody>\n",
       "  </tbody>\n",
       "</table>\n",
       "</div>"
      ],
      "text/plain": [
       "Empty DataFrame\n",
       "Columns: [country, 1995, 1996, 1997, 1998, 1999, 2000, 2001, 2002, 2003, 2004, 2005, 2006, 2007, 2008, 2009, 2010]\n",
       "Index: []"
      ]
     },
     "execution_count": 19,
     "metadata": {},
     "output_type": "execute_result"
    }
   ],
   "source": [
    "gvt_spnd[gvt_spnd.isnull().any(axis=1)] #no more missing values"
   ]
  },
  {
   "cell_type": "code",
   "execution_count": 20,
   "metadata": {},
   "outputs": [
    {
     "data": {
      "text/html": [
       "<div>\n",
       "<style scoped>\n",
       "    .dataframe tbody tr th:only-of-type {\n",
       "        vertical-align: middle;\n",
       "    }\n",
       "\n",
       "    .dataframe tbody tr th {\n",
       "        vertical-align: top;\n",
       "    }\n",
       "\n",
       "    .dataframe thead th {\n",
       "        text-align: right;\n",
       "    }\n",
       "</style>\n",
       "<table border=\"1\" class=\"dataframe\">\n",
       "  <thead>\n",
       "    <tr style=\"text-align: right;\">\n",
       "      <th></th>\n",
       "      <th>2008</th>\n",
       "      <th>2009</th>\n",
       "      <th>2010</th>\n",
       "    </tr>\n",
       "  </thead>\n",
       "  <tbody>\n",
       "    <tr>\n",
       "      <th>72</th>\n",
       "      <td>146.0</td>\n",
       "      <td>178.0</td>\n",
       "      <td>178.0</td>\n",
       "    </tr>\n",
       "    <tr>\n",
       "      <th>108</th>\n",
       "      <td>418.0</td>\n",
       "      <td>445.0</td>\n",
       "      <td>445.0</td>\n",
       "    </tr>\n",
       "    <tr>\n",
       "      <th>122</th>\n",
       "      <td>138.0</td>\n",
       "      <td>139.0</td>\n",
       "      <td>139.0</td>\n",
       "    </tr>\n",
       "  </tbody>\n",
       "</table>\n",
       "</div>"
      ],
      "text/plain": [
       "      2008   2009   2010\n",
       "72   146.0  178.0  178.0\n",
       "108  418.0  445.0  445.0\n",
       "122  138.0  139.0  139.0"
      ]
     },
     "execution_count": 20,
     "metadata": {},
     "output_type": "execute_result"
    }
   ],
   "source": [
    "gvt_spnd.loc[[72,108,122],\"2008\":]"
   ]
  },
  {
   "cell_type": "code",
   "execution_count": null,
   "metadata": {},
   "outputs": [],
   "source": []
  },
  {
   "cell_type": "markdown",
   "metadata": {},
   "source": [
    "We are going to create a new dataframe for easier exploration"
   ]
  },
  {
   "cell_type": "code",
   "execution_count": 21,
   "metadata": {},
   "outputs": [
    {
     "data": {
      "text/plain": [
       "16"
      ]
     },
     "execution_count": 21,
     "metadata": {},
     "output_type": "execute_result"
    }
   ],
   "source": [
    "no_cols = gvt_spnd.shape[1] - 1\n",
    "no_cols #we don't count the country column"
   ]
  },
  {
   "cell_type": "code",
   "execution_count": 22,
   "metadata": {},
   "outputs": [
    {
     "data": {
      "text/html": [
       "<div>\n",
       "<style scoped>\n",
       "    .dataframe tbody tr th:only-of-type {\n",
       "        vertical-align: middle;\n",
       "    }\n",
       "\n",
       "    .dataframe tbody tr th {\n",
       "        vertical-align: top;\n",
       "    }\n",
       "\n",
       "    .dataframe thead th {\n",
       "        text-align: right;\n",
       "    }\n",
       "</style>\n",
       "<table border=\"1\" class=\"dataframe\">\n",
       "  <thead>\n",
       "    <tr style=\"text-align: right;\">\n",
       "      <th></th>\n",
       "      <th>country</th>\n",
       "      <th>year</th>\n",
       "      <th>goverment_spending</th>\n",
       "    </tr>\n",
       "  </thead>\n",
       "  <tbody>\n",
       "  </tbody>\n",
       "</table>\n",
       "</div>"
      ],
      "text/plain": [
       "Empty DataFrame\n",
       "Columns: [country, year, goverment_spending]\n",
       "Index: []"
      ]
     },
     "execution_count": 22,
     "metadata": {},
     "output_type": "execute_result"
    }
   ],
   "source": [
    "final = pd.DataFrame(columns=['country', 'year', 'goverment_spending']) #initialize an empty dataframe\n",
    "final.head()"
   ]
  },
  {
   "cell_type": "code",
   "execution_count": 23,
   "metadata": {},
   "outputs": [
    {
     "data": {
      "text/plain": [
       "16"
      ]
     },
     "execution_count": 23,
     "metadata": {},
     "output_type": "execute_result"
    }
   ],
   "source": [
    "year_repeat = list(gvt_spnd.columns)[1:]\n",
    "len(year_repeat)"
   ]
  },
  {
   "cell_type": "code",
   "execution_count": 24,
   "metadata": {},
   "outputs": [
    {
     "data": {
      "text/plain": [
       "(16,)"
      ]
     },
     "execution_count": 24,
     "metadata": {},
     "output_type": "execute_result"
    }
   ],
   "source": [
    "yr_rpt = pd.Series(year_repeat)\n",
    "yr_rpt.shape"
   ]
  },
  {
   "cell_type": "code",
   "execution_count": 25,
   "metadata": {},
   "outputs": [],
   "source": [
    "gvt_spnd.reset_index(inplace=True, drop=True) #doesnt add the previous indeces as columns"
   ]
  },
  {
   "cell_type": "code",
   "execution_count": 26,
   "metadata": {},
   "outputs": [],
   "source": [
    "\n",
    "for row in list(gvt_spnd.index): \n",
    "    \n",
    "    name = gvt_spnd.iloc[row,0]\n",
    "    tmp_repeat = np.repeat(name, no_cols)\n",
    "    tmp_series = pd.Series(tmp_repeat)\n",
    "    gv_spnd = gvt_spnd.iloc[row,1:].copy()\n",
    "    gv_spnd.reset_index(inplace=True, drop=True) #doesnt add the previous indeces as columns\n",
    "    #gvt_exp has the years as indeces, while the other 2 have indeces starting from zero(0,1,2)\n",
    "    #we need to drop the indeces in order to concat properly, otherwise they wont match (the indeces)\n",
    "    \n",
    "    tmp_df = pd.concat([tmp_series, yr_rpt, gv_spnd], axis=1)\n",
    "    tmp_df.columns = list(final.columns)\n",
    "    \n",
    "    final = final.append(tmp_df)"
   ]
  },
  {
   "cell_type": "code",
   "execution_count": 27,
   "metadata": {},
   "outputs": [
    {
     "data": {
      "text/html": [
       "<div>\n",
       "<style scoped>\n",
       "    .dataframe tbody tr th:only-of-type {\n",
       "        vertical-align: middle;\n",
       "    }\n",
       "\n",
       "    .dataframe tbody tr th {\n",
       "        vertical-align: top;\n",
       "    }\n",
       "\n",
       "    .dataframe thead th {\n",
       "        text-align: right;\n",
       "    }\n",
       "</style>\n",
       "<table border=\"1\" class=\"dataframe\">\n",
       "  <thead>\n",
       "    <tr style=\"text-align: right;\">\n",
       "      <th></th>\n",
       "      <th>country</th>\n",
       "      <th>year</th>\n",
       "      <th>goverment_spending</th>\n",
       "    </tr>\n",
       "  </thead>\n",
       "  <tbody>\n",
       "    <tr>\n",
       "      <th>0</th>\n",
       "      <td>Albania</td>\n",
       "      <td>1995</td>\n",
       "      <td>52.9</td>\n",
       "    </tr>\n",
       "    <tr>\n",
       "      <th>1</th>\n",
       "      <td>Albania</td>\n",
       "      <td>1996</td>\n",
       "      <td>57.8</td>\n",
       "    </tr>\n",
       "    <tr>\n",
       "      <th>2</th>\n",
       "      <td>Albania</td>\n",
       "      <td>1997</td>\n",
       "      <td>61.2</td>\n",
       "    </tr>\n",
       "    <tr>\n",
       "      <th>3</th>\n",
       "      <td>Albania</td>\n",
       "      <td>1998</td>\n",
       "      <td>72.7</td>\n",
       "    </tr>\n",
       "    <tr>\n",
       "      <th>4</th>\n",
       "      <td>Albania</td>\n",
       "      <td>1999</td>\n",
       "      <td>97.5</td>\n",
       "    </tr>\n",
       "  </tbody>\n",
       "</table>\n",
       "</div>"
      ],
      "text/plain": [
       "   country  year goverment_spending\n",
       "0  Albania  1995               52.9\n",
       "1  Albania  1996               57.8\n",
       "2  Albania  1997               61.2\n",
       "3  Albania  1998               72.7\n",
       "4  Albania  1999               97.5"
      ]
     },
     "execution_count": 27,
     "metadata": {},
     "output_type": "execute_result"
    }
   ],
   "source": [
    "final.head()"
   ]
  },
  {
   "cell_type": "code",
   "execution_count": 28,
   "metadata": {},
   "outputs": [
    {
     "data": {
      "text/plain": [
       "2976"
      ]
     },
     "execution_count": 28,
     "metadata": {},
     "output_type": "execute_result"
    }
   ],
   "source": [
    "#to verify the shape\n",
    "\n",
    "gvt_spnd.shape[0]*(gvt_spnd.shape[1]-1)"
   ]
  },
  {
   "cell_type": "code",
   "execution_count": 29,
   "metadata": {},
   "outputs": [
    {
     "data": {
      "text/plain": [
       "(2976, 3)"
      ]
     },
     "execution_count": 29,
     "metadata": {},
     "output_type": "execute_result"
    }
   ],
   "source": [
    "final.shape"
   ]
  },
  {
   "cell_type": "markdown",
   "metadata": {},
   "source": [
    "Data transformation"
   ]
  },
  {
   "cell_type": "code",
   "execution_count": 30,
   "metadata": {},
   "outputs": [
    {
     "name": "stdout",
     "output_type": "stream",
     "text": [
      "<class 'pandas.core.frame.DataFrame'>\n",
      "Int64Index: 2976 entries, 0 to 15\n",
      "Data columns (total 3 columns):\n",
      "country               2976 non-null object\n",
      "year                  2976 non-null object\n",
      "goverment_spending    2976 non-null object\n",
      "dtypes: object(3)\n",
      "memory usage: 93.0+ KB\n"
     ]
    }
   ],
   "source": [
    "final.info() #we need to convert the year and life expectancy to appropriate data types"
   ]
  },
  {
   "cell_type": "code",
   "execution_count": 31,
   "metadata": {},
   "outputs": [],
   "source": [
    "final.loc[:,\"year\"] = final.loc[:,\"year\"].apply(lambda x : int(x)).copy()"
   ]
  },
  {
   "cell_type": "code",
   "execution_count": 32,
   "metadata": {},
   "outputs": [],
   "source": [
    "final.loc[:,\"goverment_spending\"] = final.loc[:,\"goverment_spending\"].apply(lambda x : float(x)).copy()"
   ]
  },
  {
   "cell_type": "code",
   "execution_count": 33,
   "metadata": {},
   "outputs": [
    {
     "name": "stdout",
     "output_type": "stream",
     "text": [
      "<class 'pandas.core.frame.DataFrame'>\n",
      "Int64Index: 2976 entries, 0 to 15\n",
      "Data columns (total 3 columns):\n",
      "country               2976 non-null object\n",
      "year                  2976 non-null int64\n",
      "goverment_spending    2976 non-null float64\n",
      "dtypes: float64(1), int64(1), object(1)\n",
      "memory usage: 93.0+ KB\n"
     ]
    }
   ],
   "source": [
    "final.info() "
   ]
  },
  {
   "cell_type": "code",
   "execution_count": null,
   "metadata": {},
   "outputs": [],
   "source": []
  },
  {
   "cell_type": "markdown",
   "metadata": {},
   "source": [
    "## Usefull statistics"
   ]
  },
  {
   "cell_type": "code",
   "execution_count": 34,
   "metadata": {},
   "outputs": [],
   "source": [
    "#average goverment spending of all countries per year "
   ]
  },
  {
   "cell_type": "code",
   "execution_count": 35,
   "metadata": {},
   "outputs": [],
   "source": [
    "gvt_exp_mean = final.groupby(\"year\").goverment_spending.mean()\n",
    "#gvt_exp_mean"
   ]
  },
  {
   "cell_type": "code",
   "execution_count": 36,
   "metadata": {},
   "outputs": [
    {
     "data": {
      "image/png": "[encoded data removed]",
      "text/plain": [
       "<Figure size 432x288 with 1 Axes>"
      ]
     },
     "metadata": {
      "needs_background": "light"
     },
     "output_type": "display_data"
    }
   ],
   "source": [
    "fig = plt.figure()\n",
    "ax = plt.axes()\n",
    "\n",
    "x = list(gvt_exp_mean.index)\n",
    "y = gvt_exp_mean\n",
    "\n",
    "plt.title(\"Average health expenditure per person from 1995 to 2010\")\n",
    "ax.set_xlabel('Years')\n",
    "ax.set_ylabel('Mean expenditure per person')\n",
    "ax.plot(x,y);"
   ]
  },
  {
   "cell_type": "markdown",
   "metadata": {},
   "source": [
    "Average expenditure per person seems to be increasing throughout the years"
   ]
  },
  {
   "cell_type": "code",
   "execution_count": 37,
   "metadata": {},
   "outputs": [],
   "source": [
    "gvt_exp_min = final.groupby(\"year\").goverment_spending.min()\n",
    "#gvt_exp_min"
   ]
  },
  {
   "cell_type": "code",
   "execution_count": 38,
   "metadata": {},
   "outputs": [],
   "source": [
    "mvg_avg_min = gvt_exp_min.rolling(window=2).mean() #Moving average will filter the noise\n",
    "mvg_avg_min.iloc[0]=gvt_exp_min.iloc[0] #so they can have the same shape"
   ]
  },
  {
   "cell_type": "code",
   "execution_count": 39,
   "metadata": {},
   "outputs": [
    {
     "data": {
      "image/png": "[encoded data removed]",
      "text/plain": [
       "<Figure size 432x288 with 1 Axes>"
      ]
     },
     "metadata": {
      "needs_background": "light"
     },
     "output_type": "display_data"
    }
   ],
   "source": [
    "fig = plt.figure()\n",
    "ax = plt.axes()\n",
    "\n",
    "x = list(gvt_exp_min.index)\n",
    "y = gvt_exp_min\n",
    "z = mvg_avg_min\n",
    "labels = (\"per year\",\"moving average of 2 years\")\n",
    "\n",
    "plt.title(\"Minimum health expenditure per person from 1995 to 2010\")\n",
    "ax.set_xlabel('Years')\n",
    "ax.set_ylabel('Minimum expenditure per person')\n",
    "\n",
    "ax.plot(x,y,label=labels[0]);\n",
    "ax.plot(x,z,label=labels[1]);\n",
    "ax.legend();"
   ]
  },
  {
   "cell_type": "markdown",
   "metadata": {},
   "source": [
    "Moving average help us detect trends more easily since it filters the noice. Furthermore, the minimum expenditure even though it is increasing, it is relatively low compared to the mean"
   ]
  },
  {
   "cell_type": "code",
   "execution_count": 40,
   "metadata": {},
   "outputs": [],
   "source": [
    "gvt_exp_max = final.groupby(\"year\").goverment_spending.max()\n",
    "mvg_avg_max = gvt_exp_max.rolling(window=2).mean()\n",
    "mvg_avg_max.iloc[0]=gvt_exp_max.iloc[0] #so they can have the same shape"
   ]
  },
  {
   "cell_type": "code",
   "execution_count": 41,
   "metadata": {},
   "outputs": [
    {
     "data": {
      "image/png": "[encoded data removed]",
      "text/plain": [
       "<Figure size 432x288 with 1 Axes>"
      ]
     },
     "metadata": {
      "needs_background": "light"
     },
     "output_type": "display_data"
    }
   ],
   "source": [
    "fig = plt.figure()\n",
    "ax = plt.axes()\n",
    "\n",
    "x = list(gvt_exp_min.index)\n",
    "y = gvt_exp_max\n",
    "z = mvg_avg_max\n",
    "labels = (\"per year\",\"moving average of 2 years\")\n",
    "\n",
    "plt.title(\"Maximum health expenditure per person from 1995 to 2010\")\n",
    "ax.set_xlabel('Years')\n",
    "ax.set_ylabel('Maximum expenditure per person')\n",
    "\n",
    "ax.plot(x,y,label=labels[0]);\n",
    "ax.plot(x,z,label=labels[1]);\n",
    "ax.legend();"
   ]
  },
  {
   "cell_type": "markdown",
   "metadata": {},
   "source": [
    "Maximum expenditure became nearly 3 times more in the last 15 years, following a rising trend"
   ]
  },
  {
   "cell_type": "markdown",
   "metadata": {},
   "source": [
    "## Health expenditure in Greece"
   ]
  },
  {
   "cell_type": "code",
   "execution_count": 42,
   "metadata": {},
   "outputs": [],
   "source": [
    "mask = final[\"country\"] == \"Greece\"\n",
    "\n",
    "gvt_exp_greece = final[mask].copy()\n",
    "#gvt_exp_greece"
   ]
  },
  {
   "cell_type": "code",
   "execution_count": 43,
   "metadata": {},
   "outputs": [
    {
     "data": {
      "image/png": "[encoded data removed]",
      "text/plain": [
       "<Figure size 432x288 with 1 Axes>"
      ]
     },
     "metadata": {
      "needs_background": "light"
     },
     "output_type": "display_data"
    }
   ],
   "source": [
    "fig = plt.figure()\n",
    "ax = plt.axes()\n",
    "\n",
    "x = list(gvt_exp_greece.loc[:,\"year\"])\n",
    "y = gvt_exp_greece.loc[:,\"goverment_spending\"]\n",
    "\n",
    "plt.title('Average health expenditure per person in Greece')\n",
    "ax.set_xlabel('Years')\n",
    "ax.set_ylabel('Average health expenditure per person')\n",
    "\n",
    "ax.plot(x,y);"
   ]
  },
  {
   "cell_type": "markdown",
   "metadata": {},
   "source": [
    "Average expenditure in Greece has increased throughout the years, but it started declining after 2009. The reason behind this might have been the economic crisis in Greece."
   ]
  },
  {
   "cell_type": "code",
   "execution_count": 44,
   "metadata": {},
   "outputs": [
    {
     "data": {
      "image/png": "[encoded data removed]",
      "text/plain": [
       "<Figure size 432x288 with 1 Axes>"
      ]
     },
     "metadata": {
      "needs_background": "light"
     },
     "output_type": "display_data"
    }
   ],
   "source": [
    "fig = plt.figure()\n",
    "ax = plt.axes()\n",
    "\n",
    "x = list(gvt_exp_greece.loc[:,\"year\"])\n",
    "y = gvt_exp_greece.loc[:,\"goverment_spending\"]\n",
    "#z = mvg_avg_min\n",
    "v = gvt_exp_mean\n",
    "labels = (\"average expenditure in all countries\",\"minimum expenditure\", \"expenditure in Greece\")\n",
    "\n",
    "\n",
    "plt.title('Average health expenditure per person in Greece')\n",
    "ax.set_xlabel('Years')\n",
    "ax.set_ylabel('Health expenditure per person')\n",
    "\n",
    "#ax.plot(x,z,label=labels[1]);\n",
    "ax.plot(x,v,label=labels[0]);\n",
    "ax.plot(x,y,label=labels[2]);\n",
    "ax.legend();"
   ]
  },
  {
   "cell_type": "markdown",
   "metadata": {},
   "source": [
    "The per person health investment in Greece is higher compared to the average in other countries"
   ]
  },
  {
   "cell_type": "code",
   "execution_count": 45,
   "metadata": {},
   "outputs": [
    {
     "data": {
      "image/png": "[encoded data removed]",
      "text/plain": [
       "<Figure size 432x288 with 1 Axes>"
      ]
     },
     "metadata": {
      "needs_background": "light"
     },
     "output_type": "display_data"
    }
   ],
   "source": [
    "fig = plt.figure()\n",
    "ax = plt.axes()\n",
    "\n",
    "x = list(gvt_exp_greece.loc[:,\"year\"])\n",
    "y = gvt_exp_greece.loc[:,\"goverment_spending\"]\n",
    "z = mvg_avg_min\n",
    "v = gvt_exp_mean\n",
    "b = gvt_exp_max\n",
    "labels = (\"expenditure in all countries\",\"minimum expenditure\", \"expenditure in Greece\",\"maximum expenditure\")\n",
    "\n",
    "\n",
    "plt.title('Average health expenditure per person in Greece')\n",
    "ax.set_xlabel('Years')\n",
    "ax.set_ylabel('Health expenditure per person')\n",
    "\n",
    "ax.plot(x,z,label=labels[1]);\n",
    "ax.plot(x,v,label=labels[0]);\n",
    "ax.plot(x,b,label=labels[3]);\n",
    "ax.plot(x,y,label=labels[2]);\n",
    "ax.legend();\n"
   ]
  },
  {
   "cell_type": "code",
   "execution_count": 46,
   "metadata": {},
   "outputs": [],
   "source": [
    "mean_countries = final.groupby(\"country\").goverment_spending.mean()\n",
    "min_countries = final.groupby(\"country\").goverment_spending.min()"
   ]
  },
  {
   "cell_type": "code",
   "execution_count": 47,
   "metadata": {},
   "outputs": [
    {
     "data": {
      "text/plain": [
       "count     186.000000\n",
       "mean      514.692390\n",
       "std       749.675429\n",
       "min         2.740500\n",
       "25%        46.612813\n",
       "50%       189.884375\n",
       "75%       548.875000\n",
       "max      3846.875000\n",
       "Name: goverment_spending, dtype: float64"
      ]
     },
     "execution_count": 47,
     "metadata": {},
     "output_type": "execute_result"
    }
   ],
   "source": [
    "mean_countries.describe()"
   ]
  },
  {
   "cell_type": "code",
   "execution_count": 48,
   "metadata": {},
   "outputs": [],
   "source": [
    "mask = mean_countries > (548.875000 +(548.875000-46.612813)) #find outliers\n",
    "#outliers are the values that are further away than q3+1.5IQR"
   ]
  },
  {
   "cell_type": "markdown",
   "metadata": {},
   "source": [
    "## Average goverment spending per countries from 1995 to 2010"
   ]
  },
  {
   "cell_type": "code",
   "execution_count": 49,
   "metadata": {},
   "outputs": [
    {
     "data": {
      "image/png": "[encoded data removed]",
      "text/plain": [
       "<Figure size 504x504 with 1 Axes>"
      ]
     },
     "metadata": {
      "needs_background": "light"
     },
     "output_type": "display_data"
    }
   ],
   "source": [
    "mean_countries.plot(kind=\"box\",figsize=(7,7));"
   ]
  },
  {
   "cell_type": "code",
   "execution_count": 50,
   "metadata": {},
   "outputs": [
    {
     "data": {
      "text/plain": [
       "1051.137187"
      ]
     },
     "execution_count": 50,
     "metadata": {},
     "output_type": "execute_result"
    }
   ],
   "source": [
    "#box plot of outliers ONLY, these values are bigger than q3 +1.5(q3-q1)\n",
    "548.875000 +(548.875000-46.612813) #any value above this, is considered an outlier"
   ]
  },
  {
   "cell_type": "code",
   "execution_count": 51,
   "metadata": {},
   "outputs": [
    {
     "data": {
      "image/png": "[encoded data removed]",
      "text/plain": [
       "<Figure size 360x360 with 1 Axes>"
      ]
     },
     "metadata": {
      "needs_background": "light"
     },
     "output_type": "display_data"
    }
   ],
   "source": [
    "mean_countries[mask].plot(kind=\"box\",figsize=(5,5)); #boxplot of outliers"
   ]
  },
  {
   "cell_type": "code",
   "execution_count": 52,
   "metadata": {},
   "outputs": [
    {
     "data": {
      "image/png": "[encoded data removed]",
      "text/plain": [
       "<Figure size 360x360 with 1 Axes>"
      ]
     },
     "metadata": {
      "needs_background": "light"
     },
     "output_type": "display_data"
    }
   ],
   "source": [
    "mean_countries[~mask].plot(kind=\"box\",figsize=(5,5)); #box plot without outliers"
   ]
  },
  {
   "cell_type": "code",
   "execution_count": 53,
   "metadata": {},
   "outputs": [
    {
     "name": "stdout",
     "output_type": "stream",
     "text": [
      "32\n",
      "154\n"
     ]
    }
   ],
   "source": [
    "print(mean_countries[mask].shape[0]) # outliers mean expenditure >1051.137187\n",
    "print(mean_countries[~mask].shape[0]) # no outliers mean expenditure <1051.137187"
   ]
  },
  {
   "cell_type": "markdown",
   "metadata": {},
   "source": [
    "## Minimum goverment spending of each country from 1995 to 2010"
   ]
  },
  {
   "cell_type": "code",
   "execution_count": 54,
   "metadata": {},
   "outputs": [
    {
     "data": {
      "image/png": "[encoded data removed]",
      "text/plain": [
       "<Figure size 504x504 with 1 Axes>"
      ]
     },
     "metadata": {
      "needs_background": "light"
     },
     "output_type": "display_data"
    }
   ],
   "source": [
    "min_countries.plot(kind=\"box\",figsize=(7,7));"
   ]
  },
  {
   "cell_type": "code",
   "execution_count": 55,
   "metadata": {},
   "outputs": [
    {
     "data": {
      "text/plain": [
       "count     186.000000\n",
       "mean      312.033000\n",
       "std       474.962341\n",
       "min         0.120000\n",
       "25%        23.725000\n",
       "50%       102.350000\n",
       "75%       316.250000\n",
       "max      2000.000000\n",
       "Name: goverment_spending, dtype: float64"
      ]
     },
     "execution_count": 55,
     "metadata": {},
     "output_type": "execute_result"
    }
   ],
   "source": [
    "min_countries.describe()"
   ]
  },
  {
   "cell_type": "code",
   "execution_count": 56,
   "metadata": {},
   "outputs": [],
   "source": [
    "mask = min_countries > (316.250000 +(316.250000-23.725000)) #find outliers\n",
    "#outliers are the values that are further away than q3+1.5IQR"
   ]
  },
  {
   "cell_type": "code",
   "execution_count": 57,
   "metadata": {},
   "outputs": [
    {
     "data": {
      "text/plain": [
       "608.775"
      ]
     },
     "execution_count": 57,
     "metadata": {},
     "output_type": "execute_result"
    }
   ],
   "source": [
    "#box plot of outliers ONLY, these values are bigger than q3 +1.5(q3-q1)\n",
    "316.250000 +(316.250000-23.725000)"
   ]
  },
  {
   "cell_type": "code",
   "execution_count": 58,
   "metadata": {},
   "outputs": [
    {
     "data": {
      "image/png": "[encoded data removed]",
      "text/plain": [
       "<Figure size 360x360 with 1 Axes>"
      ]
     },
     "metadata": {
      "needs_background": "light"
     },
     "output_type": "display_data"
    }
   ],
   "source": [
    "min_countries[mask].plot(kind=\"box\",figsize=(5,5)); #box plot of outliers"
   ]
  },
  {
   "cell_type": "code",
   "execution_count": 59,
   "metadata": {},
   "outputs": [
    {
     "data": {
      "image/png": "[encoded data removed]",
      "text/plain": [
       "<Figure size 360x360 with 1 Axes>"
      ]
     },
     "metadata": {
      "needs_background": "light"
     },
     "output_type": "display_data"
    }
   ],
   "source": [
    "min_countries[~mask].plot(kind=\"box\",figsize=(5,5)); #boxplot without outliers"
   ]
  },
  {
   "cell_type": "code",
   "execution_count": 60,
   "metadata": {},
   "outputs": [
    {
     "name": "stdout",
     "output_type": "stream",
     "text": [
      "31\n",
      "155\n"
     ]
    }
   ],
   "source": [
    "print(min_countries[mask].shape[0]) # outliers min expenditure >608.775\n",
    "print(min_countries[~mask].shape[0]) # no outliers min expenditure <608.775"
   ]
  },
  {
   "cell_type": "code",
   "execution_count": null,
   "metadata": {},
   "outputs": [],
   "source": []
  },
  {
   "cell_type": "code",
   "execution_count": null,
   "metadata": {},
   "outputs": [],
   "source": []
  }
 ],
 "metadata": {
  "kernelspec": {
   "display_name": "Python 3",
   "language": "python",
   "name": "python3"
  },
  "language_info": {
   "codemirror_mode": {
    "name": "ipython",
    "version": 3
   },
   "file_extension": ".py",
   "mimetype": "text/x-python",
   "name": "python",
   "nbconvert_exporter": "python",
   "pygments_lexer": "ipython3",
   "version": "3.7.6"
  }
 },
 "nbformat": 4,
 "nbformat_minor": 4
}
